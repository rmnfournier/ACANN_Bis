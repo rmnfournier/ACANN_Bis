{
 "cells": [
  {
   "cell_type": "markdown",
   "metadata": {},
   "source": [
    "# Dimensionality Reduction\n",
    "\n",
    "The goal of this notebook is to study the intrinsic dimensionality of the $G(\\tau)$ data present in the dataset."
   ]
  },
  {
   "cell_type": "markdown",
   "metadata": {},
   "source": [
    "## Finding the transformation"
   ]
  },
  {
   "cell_type": "code",
   "execution_count": 2,
   "metadata": {},
   "outputs": [
    {
     "name": "stderr",
     "output_type": "stream",
     "text": [
      "/home/romain/.conda/envs/DRL/lib/python3.6/importlib/_bootstrap.py:219: RuntimeWarning: numpy.dtype size changed, may indicate binary incompatibility. Expected 96, got 88\n",
      "  return f(*args, **kwds)\n",
      "/home/romain/.conda/envs/DRL/lib/python3.6/importlib/_bootstrap.py:219: RuntimeWarning: numpy.dtype size changed, may indicate binary incompatibility. Expected 96, got 88\n",
      "  return f(*args, **kwds)\n"
     ]
    }
   ],
   "source": [
    "import numpy as np\n",
    "import pandas as pd\n"
   ]
  },
  {
   "cell_type": "code",
   "execution_count": 2,
   "metadata": {},
   "outputs": [],
   "source": [
    "dataset = pd.read_csv(\"../G_training.csv\",header=None)"
   ]
  },
  {
   "cell_type": "code",
   "execution_count": 3,
   "metadata": {},
   "outputs": [
    {
     "name": "stdout",
     "output_type": "stream",
     "text": [
      "[9.62997245e-01 3.41155762e-02 2.33802608e-03 4.34765787e-04\n",
      " 1.05421970e-04 8.41077782e-06 5.24935148e-07 2.80862337e-08\n",
      " 1.31320070e-09 5.51151651e-11]\n"
     ]
    }
   ],
   "source": [
    "from sklearn.decomposition import PCA\n",
    "\n",
    "pca = PCA(n_components=10)\n",
    "pca.fit(dataset)\n",
    "print(pca.explained_variance_ratio_)  \n"
   ]
  },
  {
   "cell_type": "code",
   "execution_count": 4,
   "metadata": {},
   "outputs": [
    {
     "name": "stdout",
     "output_type": "stream",
     "text": [
      "[0.96299724 0.99711282 0.99945085 0.99988561 0.99999103 0.99999945\n",
      " 0.99999997 1.         1.         1.        ]\n"
     ]
    }
   ],
   "source": [
    "print(np.cumsum(pca.explained_variance_ratio_))"
   ]
  },
  {
   "cell_type": "markdown",
   "metadata": {},
   "source": [
    "It seems that the data can almost perfectly be compressed using 8 dimensions, istead of the 512. This could represent a huge gain for the training of neural networks. "
   ]
  },
  {
   "cell_type": "markdown",
   "metadata": {},
   "source": [
    "## Applying the transformation to Quantum Monte Carlo Data\n",
    "\n",
    "The problem is that our QMC data do not contain the same number of sampling points. Indeed, for reason of correlation or computation time, some time steps are closer than other... \n",
    "\n",
    "In this section, we will try to generate the missing points by putting a smooth line between the data. "
   ]
  },
  {
   "cell_type": "code",
   "execution_count": 5,
   "metadata": {},
   "outputs": [
    {
     "name": "stderr",
     "output_type": "stream",
     "text": [
      "/home/romain/.conda/envs/DRL/lib/python3.6/site-packages/ipykernel_launcher.py:4: FutureWarning: Method .as_matrix will be removed in a future version. Use .values instead.\n",
      "  after removing the cwd from sys.path.\n",
      "/home/romain/.conda/envs/DRL/lib/python3.6/site-packages/ipykernel_launcher.py:5: FutureWarning: Method .as_matrix will be removed in a future version. Use .values instead.\n",
      "  \"\"\"\n"
     ]
    },
    {
     "data": {
      "text/plain": [
       "<Figure size 640x480 with 1 Axes>"
      ]
     },
     "metadata": {},
     "output_type": "display_data"
    }
   ],
   "source": [
    "import matplotlib.pyplot as plt\n",
    "from scipy.interpolate import interp1d\n",
    "#Import data\n",
    "qmc_data_G = np.squeeze(pd.read_csv(\"../../MaxEnt/simulation_harm_osc.csv\",usecols=[1]).as_matrix())\n",
    "qmc_data_tau = np.squeeze(pd.read_csv(\"../../MaxEnt/simulation_harm_osc.csv\",usecols=[0]).as_matrix())\n",
    "# Interpolate the data\n",
    "f = interp1d(qmc_data_tau, qmc_data_G, kind='cubic')\n",
    "tau = np.linspace(qmc_data_tau[0], qmc_data_tau[-1], num=1024, endpoint=True)\n",
    "\n",
    "# Plot data\n",
    "plt.plot(qmc_data_tau,qmc_data_G, 'o',tau,f(tau),'--')\n",
    "plt.legend(['data','splines'],loc='best')\n",
    "plt.show()\n",
    "\n",
    "\n"
   ]
  },
  {
   "cell_type": "markdown",
   "metadata": {},
   "source": [
    " We can now transform the $f(\\tau)$ using PCA transform !"
   ]
  },
  {
   "cell_type": "code",
   "execution_count": 6,
   "metadata": {},
   "outputs": [],
   "source": [
    "reduced_G=pca.transform(f(tau).reshape(1,1024))\n",
    "new_G = pca.inverse_transform(reduced_G[:][0:8])"
   ]
  },
  {
   "cell_type": "code",
   "execution_count": 7,
   "metadata": {},
   "outputs": [
    {
     "data": {
      "image/png": "[encoded data removed]",
      "text/plain": [
       "<Figure size 432x288 with 1 Axes>"
      ]
     },
     "metadata": {},
     "output_type": "display_data"
    }
   ],
   "source": [
    "plt.plot(qmc_data_tau,qmc_data_G, 'o',tau,f(tau),'--',tau,new_G[0][:],'-')\n",
    "plt.legend(['data','splines','pca back'],loc='best')\n",
    "plt.show()\n",
    "\n"
   ]
  },
  {
   "cell_type": "markdown",
   "metadata": {},
   "source": [
    "The transformation, keeping only the 8th first data, seems to keep the main features of $G(\\tau)$"
   ]
  },
  {
   "cell_type": "markdown",
   "metadata": {},
   "source": [
    "## Transforming the dataset\n",
    "\n",
    "We can proceed to the transformation of the whole dataset :D"
   ]
  },
  {
   "cell_type": "code",
   "execution_count": 12,
   "metadata": {},
   "outputs": [
    {
     "data": {
      "text/plain": [
       "PCA(copy=True, iterated_power='auto', n_components=8, random_state=None,\n",
       "  svd_solver='auto', tol=0.0, whiten=False)"
      ]
     },
     "execution_count": 12,
     "metadata": {},
     "output_type": "execute_result"
    }
   ],
   "source": [
    "dataset = pd.read_csv(\"../G_training.csv\",header=None)\n",
    "pca_def = PCA(n_components=8)\n",
    "pca_def.fit(dataset)\n",
    "\n",
    "\n"
   ]
  },
  {
   "cell_type": "code",
   "execution_count": 13,
   "metadata": {},
   "outputs": [],
   "source": [
    "dataset_coef = pca_def.transform(dataset)\n",
    "pd.DataFrame(dataset_coef).to_csv(\"../G_training_reduced.csv\",index=False,header=False)\n",
    "\n"
   ]
  },
  {
   "cell_type": "code",
   "execution_count": 14,
   "metadata": {},
   "outputs": [],
   "source": [
    "validation_set = pd.read_csv(\"../G_validation.csv\",header=None)\n",
    "validation_set_coef = pca_def.transform(validation_set)\n",
    "pd.DataFrame(validation_set_coef).to_csv(\"../G_validation_reduced.csv\",index=False,header=False)"
   ]
  },
  {
   "cell_type": "markdown",
   "metadata": {},
   "source": [
    "## Transformation of $A(\\omega)$\n",
    "\n",
    "Using PCA had a spectacular impact on the training. Now we will try to perform the same tricks on $A(\\omega)$."
   ]
  },
  {
   "cell_type": "code",
   "execution_count": 3,
   "metadata": {},
   "outputs": [],
   "source": [
    "dataset = pd.read_csv(\"../A_training.csv\",header=None)"
   ]
  },
  {
   "cell_type": "code",
   "execution_count": 8,
   "metadata": {},
   "outputs": [
    {
     "name": "stdout",
     "output_type": "stream",
     "text": [
      "[2.01225197e-05]\n"
     ]
    }
   ],
   "source": [
    "from sklearn.decomposition import PCA\n",
    "\n",
    "pca = PCA(n_components=800)\n",
    "pca.fit(dataset)\n"
   ]
  },
  {
   "cell_type": "code",
   "execution_count": 9,
   "metadata": {},
   "outputs": [
    {
     "name": "stdout",
     "output_type": "stream",
     "text": [
      "[0.16763322 0.22288558 0.26768072 0.30320726 0.33139694 0.35449189\n",
      " 0.37388208 0.39072597 0.40548102 0.41855048 0.43039432 0.44126968\n",
      " 0.4513196  0.46071031 0.46945308 0.47763458 0.48530022 0.49255255\n",
      " 0.49954001 0.50604898 0.51235689 0.51826423 0.52393977 0.52939355\n",
      " 0.53462313 0.53964596 0.5445017  0.54923865 0.55382366 0.55822899\n",
      " 0.56247948 0.56660125 0.57062936 0.57453399 0.57836777 0.58207191\n",
      " 0.58572293 0.58923846 0.59270387 0.59604985 0.59931746 0.60245853\n",
      " 0.60556436 0.60865472 0.61168028 0.61463878 0.61753195 0.62040294\n",
      " 0.62322099 0.62598945 0.6287196  0.63142056 0.63403381 0.63662291\n",
      " 0.63918468 0.64172603 0.64417278 0.64660245 0.64897835 0.65134048\n",
      " 0.65364631 0.65590877 0.65816013 0.66039793 0.66261041 0.66481379\n",
      " 0.66699911 0.66914724 0.67124074 0.67331802 0.67538303 0.67744335\n",
      " 0.67947679 0.68148699 0.68347537 0.68545118 0.68741897 0.68935133\n",
      " 0.69125312 0.69313161 0.69500516 0.69686407 0.69869336 0.70050852\n",
      " 0.70226975 0.70394893 0.70562566 0.70729971 0.70896849 0.71061189\n",
      " 0.71224645 0.71387635 0.71549997 0.71711351 0.7187157  0.72030354\n",
      " 0.72188365 0.72345574 0.72501535 0.7265687  0.72811618 0.72965852\n",
      " 0.73119874 0.73273357 0.73424835 0.73575647 0.73725095 0.73873993\n",
      " 0.74021469 0.741683   0.74314227 0.74459333 0.74602624 0.7474503\n",
      " 0.74884325 0.75023267 0.75161717 0.75299545 0.75437241 0.75573197\n",
      " 0.75708922 0.75843852 0.75977496 0.76108595 0.76239325 0.76369844\n",
      " 0.76499587 0.76629071 0.76757847 0.76885767 0.77013028 0.77139798\n",
      " 0.77266047 0.77392237 0.77518168 0.77642739 0.77767211 0.77888328\n",
      " 0.78008171 0.7812703  0.78245617 0.78363999 0.78480375 0.78596627\n",
      " 0.78712235 0.78827374 0.7894155  0.79055673 0.79169113 0.79282438\n",
      " 0.79395663 0.7950862  0.79621302 0.79733335 0.79845256 0.79954727\n",
      " 0.80063774 0.80172377 0.8028068  0.803888   0.80496553 0.80603239\n",
      " 0.8070953  0.80812289 0.80914645 0.81016795 0.81117244 0.81217613\n",
      " 0.81317693 0.81417161 0.81515137 0.81612793 0.81709313 0.81805692\n",
      " 0.81901173 0.81996321 0.82090801 0.82185093 0.82279038 0.82372382\n",
      " 0.82464499 0.82556078 0.82647455 0.82738701 0.82829593 0.82920266\n",
      " 0.83009992 0.83099289 0.83188135 0.83275477 0.83361886 0.83448229\n",
      " 0.83534173 0.83619757 0.83704836 0.83789593 0.83873047 0.83956157\n",
      " 0.84039051 0.84121595 0.84203632 0.84285221 0.84366665 0.84447507\n",
      " 0.84527965 0.8460788  0.84687509 0.8476701  0.84846453 0.84925856\n",
      " 0.85005118 0.85084317 0.85163151 0.85241922 0.85320374 0.85397731\n",
      " 0.85474637 0.85550765 0.85626267 0.85701718 0.85776746 0.85851096\n",
      " 0.85925095 0.85998966 0.86072728 0.86145814 0.86218574 0.86291277\n",
      " 0.86363661 0.86435495 0.86507248 0.86578771 0.86649886 0.86720259\n",
      " 0.86790565 0.86860519 0.8693011  0.86999394 0.87068649 0.87137444\n",
      " 0.87206165 0.8727464  0.87342932 0.87410934 0.87478285 0.87545412\n",
      " 0.87612338 0.87679229 0.87745456 0.87811598 0.87877374 0.87942884\n",
      " 0.88007483 0.88071372 0.88135115 0.88198487 0.88261517 0.88324508\n",
      " 0.88387053 0.88449071 0.88510767 0.88571964 0.88633082 0.88694031\n",
      " 0.88754667 0.88814962 0.88875167 0.88935091 0.88994766 0.89053502\n",
      " 0.89112084 0.89170564 0.89228896 0.89287131 0.89345249 0.8940316\n",
      " 0.89461002 0.89518527 0.89576009 0.8963332  0.89690332 0.89747103\n",
      " 0.89803654 0.89859992 0.89916303 0.89972399 0.90028219 0.90083578\n",
      " 0.90138806 0.90193964 0.90248976 0.90303863 0.90358373 0.90412857\n",
      " 0.90466986 0.90521096 0.90574338 0.90627313 0.90680068 0.90732486\n",
      " 0.90784663 0.90836781 0.90888806 0.90940722 0.90992066 0.91043383\n",
      " 0.91094183 0.91144563 0.91194908 0.91245115 0.91295272 0.91345158\n",
      " 0.91394865 0.91444213 0.91493148 0.91541996 0.91590497 0.91638969\n",
      " 0.91686752 0.91734381 0.91781913 0.91829209 0.91876496 0.91923601\n",
      " 0.91970662 0.92017459 0.92063896 0.92110235 0.92156312 0.92202338\n",
      " 0.92248323 0.92294225 0.92339583 0.92384791 0.92429966 0.9247435\n",
      " 0.92518654 0.92562161 0.92605517 0.92648794 0.92691956 0.92735077\n",
      " 0.92777771 0.92820439 0.92862967 0.92905282 0.92947554 0.92989809\n",
      " 0.93031927 0.93073178 0.93114124 0.93154939 0.93195617 0.93236107\n",
      " 0.93276401 0.93316559 0.93356116 0.93395625 0.93435059 0.9347445\n",
      " 0.93513744 0.93552879 0.93592002 0.93631105 0.93669997 0.93708528\n",
      " 0.93747015 0.93785169 0.93823278 0.93861271 0.93899135 0.93936497\n",
      " 0.93973821 0.94010922 0.94047817 0.94084615 0.9412141  0.94158141\n",
      " 0.94194613 0.9423098  0.94267205 0.94303268 0.94339177 0.94374991\n",
      " 0.94410254 0.94445482 0.94480586 0.94515547 0.94550265 0.94584697\n",
      " 0.94618991 0.94653037 0.94687067 0.9472075  0.94754368 0.94787959\n",
      " 0.94821466 0.94854836 0.9488796  0.94921041 0.94954095 0.94987126\n",
      " 0.95019758 0.95052089 0.95084233 0.95116121 0.95147926 0.95179634\n",
      " 0.95211227 0.95242307 0.95272576 0.95302607 0.95332392 0.95361794\n",
      " 0.95391034 0.95420266 0.95449402 0.95478382 0.95507152 0.95535527\n",
      " 0.95563852 0.95592134 0.95620386 0.95648535 0.95676435 0.95704288\n",
      " 0.95731911 0.95759512 0.95787112 0.95814472 0.95841809 0.95868785\n",
      " 0.95895427 0.95921983 0.95948497 0.95974961 0.96001306 0.96027472\n",
      " 0.96053592 0.96079691 0.96105501 0.96131167 0.96156505 0.96181637\n",
      " 0.96206736 0.96231775 0.96256694 0.96281193 0.96305645 0.96329633\n",
      " 0.96353558 0.96377427 0.96401211 0.96424916 0.96448607 0.96472168\n",
      " 0.96495598 0.96518301 0.96540787 0.96563249 0.96585703 0.96608063\n",
      " 0.9663038  0.96652617 0.96674828 0.96696968 0.96719099 0.96741148\n",
      " 0.9676315  0.96785016 0.96806831 0.96828567 0.96850198 0.96871787\n",
      " 0.96893214 0.96914291 0.96935293 0.96956194 0.96976809 0.96996496\n",
      " 0.97016181 0.97035801 0.97055407 0.9707476  0.97094037 0.97113209\n",
      " 0.97132366 0.9715126  0.97170103 0.97188825 0.97207477 0.97226108\n",
      " 0.97244671 0.97263066 0.97281395 0.97299634 0.97317871 0.97336037\n",
      " 0.97354129 0.97372132 0.9739008  0.97407938 0.97425726 0.97443331\n",
      " 0.97460931 0.97478521 0.9749595  0.97513189 0.97530159 0.97546978\n",
      " 0.97563721 0.97580408 0.97597023 0.97613599 0.97629861 0.97646116\n",
      " 0.97662357 0.97678593 0.97694509 0.97710356 0.97726009 0.97741585\n",
      " 0.97757154 0.97772668 0.97788115 0.97803416 0.97818665 0.97833651\n",
      " 0.97848608 0.97863465 0.97878312 0.97893083 0.97907816 0.9792233\n",
      " 0.97936837 0.97951317 0.97965626 0.97979932 0.97994115 0.98008265\n",
      " 0.98022231 0.98036079 0.98049901 0.98063705 0.98077474 0.98091163\n",
      " 0.9810479  0.98118284 0.98131688 0.98145043 0.98158376 0.98171667\n",
      " 0.98184879 0.98198047 0.98211165 0.98224149 0.98237118 0.98250039\n",
      " 0.98262901 0.98275515 0.98288011 0.98300441 0.9831266  0.98324878\n",
      " 0.98337062 0.98349223 0.98361363 0.98373474 0.98385551 0.98397285\n",
      " 0.98408885 0.98420354 0.98431817 0.98443264 0.98454625 0.98465924\n",
      " 0.9847711  0.98488218 0.98499306 0.98510389 0.98521407 0.98532391\n",
      " 0.9854331  0.98554221 0.98565035 0.98575828 0.98586534 0.98597169\n",
      " 0.98607748 0.98618276 0.98628741 0.98639188 0.98649586 0.98659961\n",
      " 0.98670324 0.98680547 0.98690711 0.9870087  0.9871097  0.98721069\n",
      " 0.98731158 0.98741214 0.98751247 0.98761227 0.98771198 0.98781137\n",
      " 0.98791033 0.9880088  0.98810681 0.98820415 0.98830108 0.98839637\n",
      " 0.98849136 0.98858631 0.98868113 0.98877548 0.98886935 0.98896309\n",
      " 0.98905577 0.98914706 0.98923762 0.98932773 0.98941742 0.9895069\n",
      " 0.98959454 0.98968047 0.98976635 0.98985129 0.98993609 0.9900207\n",
      " 0.9901046  0.99018846 0.99027213 0.99035552 0.99043864 0.99052136\n",
      " 0.99060394 0.99068502 0.99076592 0.99084669 0.9909271  0.99100709\n",
      " 0.99108533 0.9911635  0.99124147 0.99131903 0.99139658 0.99147395\n",
      " 0.99155115 0.99162716 0.99170265 0.99177808 0.9918533  0.99192847\n",
      " 0.99200289 0.99207689 0.99215081 0.9922242  0.99229703 0.99236956\n",
      " 0.99244204 0.99251445 0.99258618 0.99265649 0.99272677 0.99279701\n",
      " 0.99286687 0.9929365  0.99300537 0.99307397 0.99314226 0.99321048\n",
      " 0.99327722 0.99334375 0.99341007 0.99347609 0.99354098 0.99360562\n",
      " 0.99367    0.99373343 0.99379675 0.99385945 0.99392209 0.9939835\n",
      " 0.99404449 0.99410476 0.99416486 0.99422317 0.99428051 0.99433767\n",
      " 0.99439445 0.99445102 0.99450753 0.99456396 0.99461965 0.99467522\n",
      " 0.9947304  0.9947855  0.99484048 0.9948954  0.99494999 0.99500359\n",
      " 0.99505702 0.99511017 0.99516201 0.99521363 0.99526495 0.99531621\n",
      " 0.99536723 0.99541759 0.99546731 0.99551655 0.99556563 0.99561446\n",
      " 0.99566244 0.99571007 0.99575762 0.99580514 0.99585216 0.99589834\n",
      " 0.99594447 0.99599053 0.99603648 0.99608204 0.99612708 0.99617135\n",
      " 0.99621518 0.99625843 0.99630081 0.99634239 0.99638392 0.99642541\n",
      " 0.99646655 0.99650745 0.99654803 0.99658826 0.9966278  0.99666672\n",
      " 0.99670513 0.99674318 0.99678106 0.99681887 0.9968561  0.99689281\n",
      " 0.99692817 0.99696329 0.99699809 0.99703274 0.9970669  0.997101\n",
      " 0.99713503 0.99716893 0.99720261 0.99723622 0.99726976 0.99730298\n",
      " 0.99733549 0.99736796 0.9973997  0.99743119 0.99746262 0.99749384\n",
      " 0.99752484 0.99755488 0.99758479 0.99761457 0.99764398 0.99767318\n",
      " 0.99770231 0.99773123 0.99776004 0.99778867 0.99781681 0.99784472\n",
      " 0.99787248 0.99789994 0.9979271  0.997954   0.99798079 0.99800743\n",
      " 0.99803389 0.99806023 0.99808594 0.99811154 0.99813695 0.99816133\n",
      " 0.99818542 0.99820942 0.99823297 0.99825613 0.998279   0.99830169\n",
      " 0.9983239  0.99834575 0.99836728 0.99838842 0.99840939 0.99843016\n",
      " 0.9984508  0.99847092]\n"
     ]
    }
   ],
   "source": [
    "print(np.cumsum(pca.explained_variance_ratio_))"
   ]
  },
  {
   "cell_type": "code",
   "execution_count": null,
   "metadata": {},
   "outputs": [],
   "source": []
  }
 ],
 "metadata": {
  "kernelspec": {
   "display_name": "Python 3",
   "language": "python",
   "name": "python3"
  },
  "language_info": {
   "codemirror_mode": {
    "name": "ipython",
    "version": 3
   },
   "file_extension": ".py",
   "mimetype": "text/x-python",
   "name": "python",
   "nbconvert_exporter": "python",
   "pygments_lexer": "ipython3",
   "version": "3.6.6"
  }
 },
 "nbformat": 4,
 "nbformat_minor": 2
}
